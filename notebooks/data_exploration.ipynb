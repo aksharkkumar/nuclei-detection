{
 "cells": [
  {
   "cell_type": "markdown",
   "metadata": {},
   "source": [
    "# Data Exploration\n",
    "\n",
    "## Purpose\n",
    "The purpose of this notebook is to explore the characteristics of the data. This preliminary exploration will give us a better understanding of what needs to be done to normalize and clean image data. From there we can figure out the best path forward to develop a model to identify nuclei in images.\n",
    "\n",
    "## Ideas\n",
    "- Image histogram\n",
    "- Histogram equalization\n",
    "- Gray-level coocurrence matrix\n",
    "- Feature-extraction"
   ]
  },
  {
   "cell_type": "code",
   "execution_count": null,
   "metadata": {
    "collapsed": true
   },
   "outputs": [],
   "source": []
  }
 ],
 "metadata": {
  "kernelspec": {
   "display_name": "Python 3",
   "language": "python",
   "name": "python3"
  },
  "language_info": {
   "codemirror_mode": {
    "name": "ipython",
    "version": 3
   },
   "file_extension": ".py",
   "mimetype": "text/x-python",
   "name": "python",
   "nbconvert_exporter": "python",
   "pygments_lexer": "ipython3",
   "version": "3.6.3"
  }
 },
 "nbformat": 4,
 "nbformat_minor": 2
}
